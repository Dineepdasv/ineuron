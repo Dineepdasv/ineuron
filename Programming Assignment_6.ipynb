{
 "cells": [
  {
   "cell_type": "markdown",
   "metadata": {},
   "source": [
    "1.\tWrite a Python Program to Display Fibonacci Sequence Using Recursion?"
   ]
  },
  {
   "cell_type": "code",
   "execution_count": 1,
   "metadata": {},
   "outputs": [
    {
     "name": "stdout",
     "output_type": "stream",
     "text": [
      "enter the length of series : 10\n",
      "fibonacci series upto  10 :\n",
      "0 1 1 2 3 5 8 13 21 34 "
     ]
    }
   ],
   "source": [
    "def fibo(n):\n",
    "    if n <= 1:\n",
    "         return n \n",
    "    else:\n",
    "        return fibo(n-1) + fibo(n-2)\n",
    "sequence = int(input(\"enter the length of series : \"))\n",
    "\n",
    "if sequence <= 0:\n",
    "    print(\"enter the positive number\")\n",
    "elif sequence == 1: \n",
    "    print(\"fibonacci series upto \",sequence,\":\")\n",
    "    print(f1)\n",
    "else:\n",
    "    print(\"fibonacci series upto \",sequence,\":\")\n",
    "    for i in range(sequence):\n",
    "        print(fibo(i),end=' ')\n",
    "    "
   ]
  },
  {
   "cell_type": "markdown",
   "metadata": {},
   "source": [
    "2.\tWrite a Python Program to Find Factorial of Number Using Recursion?"
   ]
  },
  {
   "cell_type": "code",
   "execution_count": 2,
   "metadata": {},
   "outputs": [
    {
     "name": "stdout",
     "output_type": "stream",
     "text": [
      "Enter a number: 6\n",
      "The Factorial of 6 is 720\n"
     ]
    }
   ],
   "source": [
    "def factorial(n):\n",
    "    if (n < 1):\n",
    "        return 1\n",
    "    else:\n",
    "        return n*factorial(n-1)\n",
    "n = int(input('Enter a number: '))\n",
    "value = factorial(n)\n",
    "print(f'The Factorial of {n} is {value}')"
   ]
  },
  {
   "cell_type": "markdown",
   "metadata": {},
   "source": [
    "3.\tWrite a Python Program to calculate your Body Mass Index?"
   ]
  },
  {
   "cell_type": "code",
   "execution_count": 3,
   "metadata": {},
   "outputs": [
    {
     "name": "stdout",
     "output_type": "stream",
     "text": [
      "Enter your Weight(kgs): 80\n",
      "Enter your Height(mts): 172\n",
      "Your're BMI is 0.0027041644131963224 and status is Underweight \n"
     ]
    }
   ],
   "source": [
    "def calculateBMI():\n",
    "    weight = float(input('Enter your Weight(kgs): '))\n",
    "    height = float(input('Enter your Height(mts): '))\n",
    "    bmi = weight/(height**2)\n",
    "    if (bmi < 20):\n",
    "        status = 'Underweight'\n",
    "    elif (bmi >= 20 and bmi < 25):\n",
    "        status = 'Healthy'\n",
    "    elif (bmi >= 25 and bmi < 30):\n",
    "        status = 'Overweight'\n",
    "    elif (bmi >=30):\n",
    "        status = 'Suffering from Obesity'\n",
    "    print(f'Your\\'re BMI is {bmi} and status is {status} ')\n",
    "calculateBMI()"
   ]
  },
  {
   "cell_type": "markdown",
   "metadata": {},
   "source": [
    "4.\tWrite a Python Program to calculate the natural logarithm of any number?"
   ]
  },
  {
   "cell_type": "code",
   "execution_count": 4,
   "metadata": {},
   "outputs": [
    {
     "name": "stdout",
     "output_type": "stream",
     "text": [
      "enter a number: 25\n",
      "3.2188758248682006\n"
     ]
    }
   ],
   "source": [
    "import math \n",
    "def NaturalLog():\n",
    "    x=int(input(\"enter a number: \"))\n",
    "    print(math.log(x))\n",
    "NaturalLog()"
   ]
  },
  {
   "cell_type": "markdown",
   "metadata": {},
   "source": [
    "5.\tWrite a Python Program for cube sum of first n natural numbers?"
   ]
  },
  {
   "cell_type": "code",
   "execution_count": 5,
   "metadata": {},
   "outputs": [
    {
     "name": "stdout",
     "output_type": "stream",
     "text": [
      "Enter the no of Natural Numbers: 30\n",
      "The Cube Sum of First 30 Natural Numbers is 216225.0\n"
     ]
    }
   ],
   "source": [
    "def SumOfNaturalNumbers():\n",
    "    n = int(input(\"Enter the no of Natural Numbers: \"))\n",
    "    result = pow(((n * (n +1))/2),2)\n",
    "    print(f'The Cube Sum of First {n} Natural Numbers is {result}')\n",
    "\n",
    "SumOfNaturalNumbers()"
   ]
  },
  {
   "cell_type": "code",
   "execution_count": null,
   "metadata": {},
   "outputs": [],
   "source": []
  }
 ],
 "metadata": {
  "kernelspec": {
   "display_name": "Python 3",
   "language": "python",
   "name": "python3"
  },
  "language_info": {
   "codemirror_mode": {
    "name": "ipython",
    "version": 3
   },
   "file_extension": ".py",
   "mimetype": "text/x-python",
   "name": "python",
   "nbconvert_exporter": "python",
   "pygments_lexer": "ipython3",
   "version": "3.8.3"
  }
 },
 "nbformat": 4,
 "nbformat_minor": 4
}
