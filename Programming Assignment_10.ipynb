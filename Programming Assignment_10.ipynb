{
 "cells": [
  {
   "cell_type": "markdown",
   "metadata": {},
   "source": [
    "1.\tWrite a Python program to find sum of elements in list?"
   ]
  },
  {
   "cell_type": "code",
   "execution_count": 4,
   "metadata": {},
   "outputs": [
    {
     "name": "stdout",
     "output_type": "stream",
     "text": [
      "Enter the No of Entries in a List: 5\n",
      "1\n",
      "1\n",
      "1\n",
      "2\n",
      "3\n",
      "Enter a element  [1, 1, 1, 2, 3]\n",
      "Sum of elements 8\n"
     ]
    }
   ],
   "source": [
    "n = int(input(\"Enter the No of Entries in a List: \"))\n",
    "lst = []\n",
    "l = lst\n",
    "\n",
    "for i in range(n):\n",
    "    lst.append(int(input()))\n",
    "print(\"Enter a element \",lst)\n",
    "print(\"Sum of elements\",sum(l))\n"
   ]
  },
  {
   "cell_type": "markdown",
   "metadata": {},
   "source": [
    "2.\tWrite a Python program to  Multiply all numbers in the list?"
   ]
  },
  {
   "cell_type": "code",
   "execution_count": 5,
   "metadata": {},
   "outputs": [
    {
     "name": "stdout",
     "output_type": "stream",
     "text": [
      "Enter the No of Entries in a List: 3\n",
      "Enter a element: 2\n",
      "Enter a element: 4\n",
      "Enter a element: 6\n",
      "Sum of Elements: 12\n"
     ]
    }
   ],
   "source": [
    "def sumofList():\n",
    "    size = int(input('Enter the No of Entries in a List: '))\n",
    "    list = []\n",
    "    for itr in range(size):\n",
    "        list.append(int(input('Enter a element: ')))\n",
    "    print(f'Sum of Elements: {sum(list)}')\n",
    "\n",
    "sumofList()"
   ]
  },
  {
   "cell_type": "markdown",
   "metadata": {},
   "source": [
    "3.\tWrite a Python program to find smallest number in a list?"
   ]
  },
  {
   "cell_type": "code",
   "execution_count": 7,
   "metadata": {},
   "outputs": [
    {
     "name": "stdout",
     "output_type": "stream",
     "text": [
      "Enter the No of elements in a list: 4\n",
      "Enter a Element: 2\n",
      "Enter a Element: 3\n",
      "Enter a Element: 4\n",
      "Enter a Element: 5\n",
      "The Smallest Element in [2, 3, 4, 5] = 2\n"
     ]
    }
   ],
   "source": [
    "def smallElementInList():\n",
    "    size = int(input('Enter the No of elements in a list: '))\n",
    "    list = []\n",
    "    for i in range(size):\n",
    "        list.append(int(input('Enter a Element: ')))\n",
    "    print(f'The Smallest Element in {list} = {sorted(list)[0]}')\n",
    "smallElementInList()"
   ]
  },
  {
   "cell_type": "markdown",
   "metadata": {},
   "source": [
    "4.\tWrite a Python program to find largest number in a list?"
   ]
  },
  {
   "cell_type": "code",
   "execution_count": 8,
   "metadata": {},
   "outputs": [
    {
     "name": "stdout",
     "output_type": "stream",
     "text": [
      "Enter the No of elements in a list: 4\n",
      "Enter a Element: 3\n",
      "Enter a Element: 4\n",
      "Enter a Element: 5\n",
      "Enter a Element: 6\n",
      "The Largest Element in [3, 4, 5, 6] = 6\n"
     ]
    }
   ],
   "source": [
    "def largestElementInList():\n",
    "    size = int(input('Enter the No of elements in a list: '))\n",
    "    list = []\n",
    "    for i in range(size):\n",
    "        list.append(int(input('Enter a Element: ')))\n",
    "    print(f'The Largest Element in {list} = {sorted(list, reverse=True)[0]}')\n",
    "largestElementInList()"
   ]
  },
  {
   "cell_type": "markdown",
   "metadata": {},
   "source": [
    "5.\tWrite a Python program to find second largest number in a list?"
   ]
  },
  {
   "cell_type": "code",
   "execution_count": 9,
   "metadata": {},
   "outputs": [
    {
     "name": "stdout",
     "output_type": "stream",
     "text": [
      "Enter the No of elements in a list: 4\n",
      "Enter a Element: 5\n",
      "Enter a Element: 6\n",
      "Enter a Element: 8\n",
      "Enter a Element: 9\n",
      "The Largest Element in [5, 6, 8, 9] = 8\n"
     ]
    }
   ],
   "source": [
    "def secondLargestElementInList():\n",
    "    size = int(input('Enter the No of elements in a list: '))\n",
    "    list = []\n",
    "    for i in range(size):\n",
    "        list.append(int(input('Enter a Element: ')))\n",
    "    print(f'The Largest Element in {list} = {sorted(list, reverse=True)[1]}')\n",
    "secondLargestElementInList()"
   ]
  },
  {
   "cell_type": "markdown",
   "metadata": {},
   "source": [
    "6.\tWrite a Python program to find N largest elements from a list?"
   ]
  },
  {
   "cell_type": "code",
   "execution_count": 10,
   "metadata": {},
   "outputs": [
    {
     "name": "stdout",
     "output_type": "stream",
     "text": [
      "Enter the No of elements in a list: 4\n",
      "Enter a Element: 5\n",
      "Enter a Element: 7\n",
      "Enter a Element: 9\n",
      "Enter a Element: 3\n",
      "The 2 Largest Element in [5, 7, 9, 3] = [9, 7]\n"
     ]
    }
   ],
   "source": [
    "def nLargestElementInList(k):\n",
    "    size = int(input('Enter the No of elements in a list: '))\n",
    "    list = []\n",
    "    for i in range(size):\n",
    "        list.append(int(input('Enter a Element: ')))\n",
    "    print(f'The {k} Largest Element in {list} = {sorted(list, reverse=True)[0:k]}')\n",
    "nLargestElementInList(2)"
   ]
  },
  {
   "cell_type": "markdown",
   "metadata": {},
   "source": [
    "7.\tWrite a Python program to print even numbers in a list?"
   ]
  },
  {
   "cell_type": "code",
   "execution_count": 11,
   "metadata": {},
   "outputs": [
    {
     "name": "stdout",
     "output_type": "stream",
     "text": [
      "Enter the No of elements in a list: 3\n",
      "Enter a Element: 9\n",
      "Enter a Element: 6\n",
      "Enter a Element: 3\n",
      "The Even Elements in [9, 6, 3] = [6]\n"
     ]
    }
   ],
   "source": [
    "def evenNoInList():\n",
    "    size = int(input('Enter the No of elements in a list: '))\n",
    "    list = []\n",
    "    even_list = []\n",
    "    for i in range(size):\n",
    "        list.append(int(input('Enter a Element: ')))\n",
    "    for i in list:\n",
    "        if i%2 == 0:\n",
    "            even_list.append(i)\n",
    "    print(f'The Even Elements in {list} = {even_list}')\n",
    "\n",
    "evenNoInList()"
   ]
  },
  {
   "cell_type": "markdown",
   "metadata": {},
   "source": [
    "8.\tWrite a Python program to print odd numbers in a List?"
   ]
  },
  {
   "cell_type": "code",
   "execution_count": 12,
   "metadata": {},
   "outputs": [
    {
     "name": "stdout",
     "output_type": "stream",
     "text": [
      "Enter the No of elements in a list: 6\n",
      "Enter a Element: 3\n",
      "Enter a Element: 5\n",
      "Enter a Element: 7\n",
      "Enter a Element: 8\n",
      "Enter a Element: 2\n",
      "Enter a Element: 9\n",
      "The odd Elements in [3, 5, 7, 8, 2, 9] = [3, 5, 7, 9]\n"
     ]
    }
   ],
   "source": [
    "def oddNoInList():\n",
    "    size = int(input('Enter the No of elements in a list: '))\n",
    "    list = []\n",
    "    odd_list = []\n",
    "    for i in range(size):\n",
    "        list.append(int(input('Enter a Element: ')))\n",
    "    for i in list:\n",
    "        if i%2 != 0:\n",
    "            odd_list.append(i)\n",
    "    print(f'The odd Elements in {list} = {odd_list}')\n",
    "\n",
    "oddNoInList()"
   ]
  },
  {
   "cell_type": "markdown",
   "metadata": {},
   "source": [
    "9.\tWrite a Python program to Remove empty List from List?"
   ]
  },
  {
   "cell_type": "code",
   "execution_count": 13,
   "metadata": {},
   "outputs": [
    {
     "name": "stdout",
     "output_type": "stream",
     "text": [
      "The List : [1, [], 2, 3, [], 4, 5]\n",
      "The list after removing empty list\n",
      "[1, 2, 3, 4, 5]\n"
     ]
    }
   ],
   "source": [
    "lst = [1,[],2,3,[],4,5]\n",
    "print(\"The List :\",lst)\n",
    "removeEmptylist = [ele for ele in lst if ele != []]\n",
    "print(\"The list after removing empty list\")\n",
    "print(removeEmptylist)"
   ]
  },
  {
   "cell_type": "markdown",
   "metadata": {},
   "source": [
    "10.\tWrite a Python program to Cloning or Copying a list?"
   ]
  },
  {
   "cell_type": "code",
   "execution_count": 17,
   "metadata": {},
   "outputs": [
    {
     "name": "stdout",
     "output_type": "stream",
     "text": [
      "Enter a list[1,2,3]\n",
      "[1, 2, 3] 1859262200448\n",
      "[1, 2, 3] 1859263224704\n"
     ]
    }
   ],
   "source": [
    "import copy\n",
    "\n",
    "def cloneList():\n",
    "    list = eval(input('Enter a list'))\n",
    "    print(list, id(list))\n",
    "    cloned_list = list.copy()\n",
    "    print(cloned_list, id(cloned_list))\n",
    "\n",
    "cloneList()"
   ]
  },
  {
   "cell_type": "markdown",
   "metadata": {},
   "source": [
    "11.\tWrite a Python program to Count occurrences of an element in a list?"
   ]
  },
  {
   "cell_type": "code",
   "execution_count": 18,
   "metadata": {},
   "outputs": [
    {
     "name": "stdout",
     "output_type": "stream",
     "text": [
      "Enter the elements of the list: 1,2,3\n",
      "Enter the element to find: 2\n",
      "There are 1 occurences of 2 in (1, 2, 3)\n"
     ]
    }
   ],
   "source": [
    "def checkOccurence():\n",
    "    list = eval(input('Enter the elements of the list: '))\n",
    "    num = eval(input('Enter the element to find: '))\n",
    "    count = 0\n",
    "    if num in list:\n",
    "        for i in list:\n",
    "            if i == num:\n",
    "                count = count+1\n",
    "    print(f'There are {count} occurences of {num} in {list}')\n",
    "checkOccurence()"
   ]
  },
  {
   "cell_type": "code",
   "execution_count": null,
   "metadata": {},
   "outputs": [],
   "source": []
  }
 ],
 "metadata": {
  "kernelspec": {
   "display_name": "Python 3",
   "language": "python",
   "name": "python3"
  },
  "language_info": {
   "codemirror_mode": {
    "name": "ipython",
    "version": 3
   },
   "file_extension": ".py",
   "mimetype": "text/x-python",
   "name": "python",
   "nbconvert_exporter": "python",
   "pygments_lexer": "ipython3",
   "version": "3.8.3"
  }
 },
 "nbformat": 4,
 "nbformat_minor": 4
}
