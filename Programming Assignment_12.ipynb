{
 "cells": [
  {
   "cell_type": "markdown",
   "metadata": {},
   "source": [
    "1.\tWrite a Python program to Extract Unique values dictionary values?"
   ]
  },
  {
   "cell_type": "code",
   "execution_count": 1,
   "metadata": {},
   "outputs": [
    {
     "name": "stdout",
     "output_type": "stream",
     "text": [
      "unique value from dictionry values are: {1, 2, 5, 6, 7, 8, 10, 11, 12}\n"
     ]
    }
   ],
   "source": [
    "test_dict = {'A' : [5, 6, 7, 8],\n",
    "             'B' : [10, 11, 7, 5],\n",
    "             'C' : [6, 12, 10, 8],\n",
    "             'D' : [1, 2, 5,8]}\n",
    "\n",
    "lstSet = set([ele for val in test_dict.values() for ele in val])\n",
    "print(\"unique value from dictionry values are: {}\".format(lstSet))"
   ]
  },
  {
   "cell_type": "markdown",
   "metadata": {},
   "source": [
    "2.\tWrite a Python program to find the sum of all items in a dictionary?"
   ]
  },
  {
   "cell_type": "code",
   "execution_count": 2,
   "metadata": {},
   "outputs": [
    {
     "name": "stdout",
     "output_type": "stream",
     "text": [
      "Sum of All items:  300\n"
     ]
    }
   ],
   "source": [
    "dict = {'A':10,'M':20,'B':30,'G':40,'P':200}\n",
    "print('Sum of All items: ',sum(dict.values()))"
   ]
  },
  {
   "cell_type": "markdown",
   "metadata": {},
   "source": [
    "3.\tWrite a Python program to Merging two Dictionaries?"
   ]
  },
  {
   "cell_type": "code",
   "execution_count": 3,
   "metadata": {},
   "outputs": [
    {
     "name": "stdout",
     "output_type": "stream",
     "text": [
      "{'cousre_name': 'Ineuron', 'course_instructors': ['Sudhanshu Kumar', 'Krish Naik', 'sunny savita']}\n"
     ]
    }
   ],
   "source": [
    "mergingTwoDict = {\n",
    "    'cousre_name':'Ineuron'\n",
    "}\n",
    "instructors = {\n",
    "    'course_instructors':['Sudhanshu Kumar','Krish Naik', 'sunny savita']\n",
    "}\n",
    "mergingTwoDict .update(instructors)\n",
    "print(mergingTwoDict )"
   ]
  },
  {
   "cell_type": "markdown",
   "metadata": {},
   "source": [
    "4.\tWrite a Python program to convert key-values list to flat dictionary?"
   ]
  },
  {
   "cell_type": "code",
   "execution_count": 7,
   "metadata": {},
   "outputs": [
    {
     "name": "stdout",
     "output_type": "stream",
     "text": [
      "{'A': 10, 'B': 20, 'C': 30, 'D': 40, 'E': 50, 'F': 60, 'G': 70, 'H': 80, 'I': 90, 'J': 100}\n"
     ]
    }
   ],
   "source": [
    "list = [('A',10),('B',20),('C',30),('D',40),('E',50),('F',60),('G',70),('H',80),('I',90),('J',100)]\n",
    "\n",
    "out_dict = {}\n",
    "for ele in list:\n",
    "    out_dict[ele[0]] = ele[1]\n",
    "print(out_dict)"
   ]
  },
  {
   "cell_type": "markdown",
   "metadata": {},
   "source": [
    "5.\tWrite a Python program to insertion at the beginning in OrderedDict?"
   ]
  },
  {
   "cell_type": "code",
   "execution_count": 8,
   "metadata": {},
   "outputs": [
    {
     "name": "stdout",
     "output_type": "stream",
     "text": [
      "dict_1 OrderedDict([('Apple', 'Iphone'), ('Ineuron', 'Techneuron')])\n",
      "dict_1 OrderedDict([('Apple', 'Iphone'), ('Ineuron', 'Techneuron'), ('shudhanshu', 'krish')])\n",
      "dict_1 OrderedDict([('shudhanshu', 'krish'), ('Apple', 'Iphone'), ('Ineuron', 'Techneuron')])\n"
     ]
    }
   ],
   "source": [
    "from collections import OrderedDict\n",
    "dict_1 = OrderedDict({'Apple':'Iphone','Ineuron':'Techneuron'})\n",
    "print('dict_1',dict_1)\n",
    "insert = {'shudhanshu':'krish'}\n",
    "dict_1.update(insert)\n",
    "print('dict_1',dict_1)\n",
    "dict_1.move_to_end('shudhanshu',last=False)\n",
    "print('dict_1',dict_1)"
   ]
  },
  {
   "cell_type": "markdown",
   "metadata": {},
   "source": [
    "6.\tWrite a Python program to check order of character in string using OrderedDict()?"
   ]
  },
  {
   "cell_type": "code",
   "execution_count": 11,
   "metadata": {},
   "outputs": [
    {
     "name": "stdout",
     "output_type": "stream",
     "text": [
      "{'a': 1000, 'f': 200, 'd': 300, 'c': 400, 'b': 500, 'e': 600}\n",
      "OrderedDict([('a', 1000), ('b', 500), ('c', 400), ('d', 300), ('e', 600), ('f', 200)])\n"
     ]
    }
   ],
   "source": [
    "from collections import OrderedDict\n",
    "\n",
    "initial_list = {'a': 1000, 'f': 200, 'd': 300, 'c': 400, 'b': 500, 'e': 600}\n",
    "print(initial_list)\n",
    "\n",
    "final_list = OrderedDict(sorted(initial_list.items()))\n",
    "print(final_list)"
   ]
  },
  {
   "cell_type": "markdown",
   "metadata": {},
   "source": [
    "7.\tWrite a Python program to sort Python Dictionaries by Key or Value?"
   ]
  },
  {
   "cell_type": "code",
   "execution_count": 13,
   "metadata": {},
   "outputs": [
    {
     "name": "stdout",
     "output_type": "stream",
     "text": [
      "[('A', 100), ('B', 22), ('C', 60), ('D', 13)]\n",
      "[('D', 13), ('B', 22), ('C', 60), ('A', 100)]\n"
     ]
    }
   ],
   "source": [
    "d_items = {'A':100,'B':22,'C':60,'D':13}\n",
    "\n",
    "def sort_dict(in_dict,sort_type):\n",
    "    if sort_type == 'key':\n",
    "        print(sorted(in_dict.items(), key=lambda x:x[0], reverse=False))\n",
    "    else:\n",
    "        print(sorted(in_dict.items(), key=lambda x:x[1], reverse=False))\n",
    "        \n",
    "sort_dict(d_items,'key')        \n",
    "sort_dict(d_items,'value')"
   ]
  },
  {
   "cell_type": "code",
   "execution_count": null,
   "metadata": {},
   "outputs": [],
   "source": []
  }
 ],
 "metadata": {
  "kernelspec": {
   "display_name": "Python 3",
   "language": "python",
   "name": "python3"
  },
  "language_info": {
   "codemirror_mode": {
    "name": "ipython",
    "version": 3
   },
   "file_extension": ".py",
   "mimetype": "text/x-python",
   "name": "python",
   "nbconvert_exporter": "python",
   "pygments_lexer": "ipython3",
   "version": "3.8.3"
  }
 },
 "nbformat": 4,
 "nbformat_minor": 4
}
